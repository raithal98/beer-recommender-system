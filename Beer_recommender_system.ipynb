{
  "cells": [
    {
      "cell_type": "code",
      "execution_count": 75,
      "metadata": {
        "colab": {
          "base_uri": "https://localhost:8080/"
        },
        "id": "SxufWnU6hzC8",
        "outputId": "4ed62acd-f52e-4872-9ea2-8dfdb4926ac6"
      },
      "outputs": [
        {
          "name": "stdout",
          "output_type": "stream",
          "text": [
            "Requirement already satisfied: vaderSentiment in c:\\users\\rahul\\appdata\\local\\programs\\python\\python311\\lib\\site-packages (3.3.2)\n",
            "Requirement already satisfied: requests in c:\\users\\rahul\\appdata\\local\\programs\\python\\python311\\lib\\site-packages (from vaderSentiment) (2.31.0)\n",
            "Requirement already satisfied: charset-normalizer<4,>=2 in c:\\users\\rahul\\appdata\\local\\programs\\python\\python311\\lib\\site-packages (from requests->vaderSentiment) (3.2.0)\n",
            "Requirement already satisfied: idna<4,>=2.5 in c:\\users\\rahul\\appdata\\local\\programs\\python\\python311\\lib\\site-packages (from requests->vaderSentiment) (3.4)\n",
            "Requirement already satisfied: urllib3<3,>=1.21.1 in c:\\users\\rahul\\appdata\\local\\programs\\python\\python311\\lib\\site-packages (from requests->vaderSentiment) (1.26.16)\n",
            "Requirement already satisfied: certifi>=2017.4.17 in c:\\users\\rahul\\appdata\\local\\programs\\python\\python311\\lib\\site-packages (from requests->vaderSentiment) (2023.7.22)\n"
          ]
        },
        {
          "name": "stderr",
          "output_type": "stream",
          "text": [
            "\n",
            "[notice] A new release of pip is available: 23.1.2 -> 23.2.1\n",
            "[notice] To update, run: python.exe -m pip install --upgrade pip\n"
          ]
        }
      ],
      "source": [
        "!pip install vaderSentiment"
      ]
    },
    {
      "cell_type": "code",
      "execution_count": 76,
      "metadata": {},
      "outputs": [
        {
          "name": "stdout",
          "output_type": "stream",
          "text": [
            "Requirement already satisfied: spacy in c:\\users\\rahul\\appdata\\local\\programs\\python\\python311\\lib\\site-packages (3.6.1)\n",
            "Requirement already satisfied: spacy-legacy<3.1.0,>=3.0.11 in c:\\users\\rahul\\appdata\\local\\programs\\python\\python311\\lib\\site-packages (from spacy) (3.0.12)\n",
            "Requirement already satisfied: spacy-loggers<2.0.0,>=1.0.0 in c:\\users\\rahul\\appdata\\local\\programs\\python\\python311\\lib\\site-packages (from spacy) (1.0.5)\n",
            "Requirement already satisfied: murmurhash<1.1.0,>=0.28.0 in c:\\users\\rahul\\appdata\\local\\programs\\python\\python311\\lib\\site-packages (from spacy) (1.0.10)\n",
            "Requirement already satisfied: cymem<2.1.0,>=2.0.2 in c:\\users\\rahul\\appdata\\local\\programs\\python\\python311\\lib\\site-packages (from spacy) (2.0.8)\n",
            "Requirement already satisfied: preshed<3.1.0,>=3.0.2 in c:\\users\\rahul\\appdata\\local\\programs\\python\\python311\\lib\\site-packages (from spacy) (3.0.9)\n",
            "Requirement already satisfied: thinc<8.2.0,>=8.1.8 in c:\\users\\rahul\\appdata\\local\\programs\\python\\python311\\lib\\site-packages (from spacy) (8.1.12)\n",
            "Requirement already satisfied: wasabi<1.2.0,>=0.9.1 in c:\\users\\rahul\\appdata\\local\\programs\\python\\python311\\lib\\site-packages (from spacy) (1.1.2)\n",
            "Requirement already satisfied: srsly<3.0.0,>=2.4.3 in c:\\users\\rahul\\appdata\\local\\programs\\python\\python311\\lib\\site-packages (from spacy) (2.4.7)\n",
            "Requirement already satisfied: catalogue<2.1.0,>=2.0.6 in c:\\users\\rahul\\appdata\\local\\programs\\python\\python311\\lib\\site-packages (from spacy) (2.0.9)\n",
            "Requirement already satisfied: typer<0.10.0,>=0.3.0 in c:\\users\\rahul\\appdata\\local\\programs\\python\\python311\\lib\\site-packages (from spacy) (0.9.0)\n",
            "Requirement already satisfied: pathy>=0.10.0 in c:\\users\\rahul\\appdata\\local\\programs\\python\\python311\\lib\\site-packages (from spacy) (0.10.2)\n",
            "Requirement already satisfied: smart-open<7.0.0,>=5.2.1 in c:\\users\\rahul\\appdata\\local\\programs\\python\\python311\\lib\\site-packages (from spacy) (6.4.0)\n",
            "Requirement already satisfied: tqdm<5.0.0,>=4.38.0 in c:\\users\\rahul\\appdata\\local\\programs\\python\\python311\\lib\\site-packages (from spacy) (4.65.0)\n",
            "Requirement already satisfied: numpy>=1.15.0 in c:\\users\\rahul\\appdata\\local\\programs\\python\\python311\\lib\\site-packages (from spacy) (1.24.3)\n",
            "Requirement already satisfied: requests<3.0.0,>=2.13.0 in c:\\users\\rahul\\appdata\\local\\programs\\python\\python311\\lib\\site-packages (from spacy) (2.31.0)\n",
            "Requirement already satisfied: pydantic!=1.8,!=1.8.1,<3.0.0,>=1.7.4 in c:\\users\\rahul\\appdata\\local\\programs\\python\\python311\\lib\\site-packages (from spacy) (2.3.0)\n",
            "Requirement already satisfied: jinja2 in c:\\users\\rahul\\appdata\\local\\programs\\python\\python311\\lib\\site-packages (from spacy) (3.1.2)\n",
            "Requirement already satisfied: setuptools in c:\\users\\rahul\\appdata\\local\\programs\\python\\python311\\lib\\site-packages (from spacy) (65.5.0)\n",
            "Requirement already satisfied: packaging>=20.0 in c:\\users\\rahul\\appdata\\roaming\\python\\python311\\site-packages (from spacy) (23.1)\n",
            "Requirement already satisfied: langcodes<4.0.0,>=3.2.0 in c:\\users\\rahul\\appdata\\local\\programs\\python\\python311\\lib\\site-packages (from spacy) (3.3.0)\n",
            "Requirement already satisfied: annotated-types>=0.4.0 in c:\\users\\rahul\\appdata\\local\\programs\\python\\python311\\lib\\site-packages (from pydantic!=1.8,!=1.8.1,<3.0.0,>=1.7.4->spacy) (0.5.0)\n",
            "Requirement already satisfied: pydantic-core==2.6.3 in c:\\users\\rahul\\appdata\\local\\programs\\python\\python311\\lib\\site-packages (from pydantic!=1.8,!=1.8.1,<3.0.0,>=1.7.4->spacy) (2.6.3)\n",
            "Requirement already satisfied: typing-extensions>=4.6.1 in c:\\users\\rahul\\appdata\\local\\programs\\python\\python311\\lib\\site-packages (from pydantic!=1.8,!=1.8.1,<3.0.0,>=1.7.4->spacy) (4.8.0)\n",
            "Requirement already satisfied: charset-normalizer<4,>=2 in c:\\users\\rahul\\appdata\\local\\programs\\python\\python311\\lib\\site-packages (from requests<3.0.0,>=2.13.0->spacy) (3.2.0)\n",
            "Requirement already satisfied: idna<4,>=2.5 in c:\\users\\rahul\\appdata\\local\\programs\\python\\python311\\lib\\site-packages (from requests<3.0.0,>=2.13.0->spacy) (3.4)\n",
            "Requirement already satisfied: urllib3<3,>=1.21.1 in c:\\users\\rahul\\appdata\\local\\programs\\python\\python311\\lib\\site-packages (from requests<3.0.0,>=2.13.0->spacy) (1.26.16)\n",
            "Requirement already satisfied: certifi>=2017.4.17 in c:\\users\\rahul\\appdata\\local\\programs\\python\\python311\\lib\\site-packages (from requests<3.0.0,>=2.13.0->spacy) (2023.7.22)\n",
            "Requirement already satisfied: blis<0.8.0,>=0.7.8 in c:\\users\\rahul\\appdata\\local\\programs\\python\\python311\\lib\\site-packages (from thinc<8.2.0,>=8.1.8->spacy) (0.7.10)\n",
            "Requirement already satisfied: confection<1.0.0,>=0.0.1 in c:\\users\\rahul\\appdata\\local\\programs\\python\\python311\\lib\\site-packages (from thinc<8.2.0,>=8.1.8->spacy) (0.1.3)\n",
            "Requirement already satisfied: colorama in c:\\users\\rahul\\appdata\\roaming\\python\\python311\\site-packages (from tqdm<5.0.0,>=4.38.0->spacy) (0.4.6)\n",
            "Requirement already satisfied: click<9.0.0,>=7.1.1 in c:\\users\\rahul\\appdata\\local\\programs\\python\\python311\\lib\\site-packages (from typer<0.10.0,>=0.3.0->spacy) (8.1.6)\n",
            "Requirement already satisfied: MarkupSafe>=2.0 in c:\\users\\rahul\\appdata\\local\\programs\\python\\python311\\lib\\site-packages (from jinja2->spacy) (2.1.3)\n"
          ]
        },
        {
          "name": "stderr",
          "output_type": "stream",
          "text": [
            "\n",
            "[notice] A new release of pip is available: 23.1.2 -> 23.2.1\n",
            "[notice] To update, run: python.exe -m pip install --upgrade pip\n"
          ]
        }
      ],
      "source": [
        "!pip install spacy"
      ]
    },
    {
      "cell_type": "code",
      "execution_count": 77,
      "metadata": {},
      "outputs": [
        {
          "name": "stdout",
          "output_type": "stream",
          "text": [
            "Collecting en-core-web-md==3.6.0\n",
            "  Downloading https://github.com/explosion/spacy-models/releases/download/en_core_web_md-3.6.0/en_core_web_md-3.6.0-py3-none-any.whl (42.8 MB)\n",
            "                                              0.0/42.8 MB ? eta -:--:--\n",
            "                                              0.1/42.8 MB 2.8 MB/s eta 0:00:16\n",
            "                                              0.5/42.8 MB 5.6 MB/s eta 0:00:08\n",
            "     -                                        2.0/42.8 MB 14.6 MB/s eta 0:00:03\n",
            "     ---                                      4.0/42.8 MB 21.2 MB/s eta 0:00:02\n",
            "     -----                                    5.8/42.8 MB 24.6 MB/s eta 0:00:02\n",
            "     -------                                  7.8/42.8 MB 29.3 MB/s eta 0:00:02\n",
            "     --------                                 9.5/42.8 MB 30.5 MB/s eta 0:00:02\n",
            "     ----------                              11.6/42.8 MB 46.9 MB/s eta 0:00:01\n",
            "     ------------                            14.1/42.8 MB 46.7 MB/s eta 0:00:01\n",
            "     ---------------                         16.5/42.8 MB 46.7 MB/s eta 0:00:01\n",
            "     ----------------                        18.6/42.8 MB 46.7 MB/s eta 0:00:01\n",
            "     ------------------                      20.2/42.8 MB 46.7 MB/s eta 0:00:01\n",
            "     --------------------                    22.1/42.8 MB 43.7 MB/s eta 0:00:01\n",
            "     ----------------------                  24.8/42.8 MB 46.7 MB/s eta 0:00:01\n",
            "     ------------------------                27.2/42.8 MB 46.7 MB/s eta 0:00:01\n",
            "     --------------------------              29.4/42.8 MB 46.7 MB/s eta 0:00:01\n",
            "     -----------------------------           32.0/42.8 MB 46.7 MB/s eta 0:00:01\n",
            "     ------------------------------          33.8/42.8 MB 46.7 MB/s eta 0:00:01\n",
            "     --------------------------------        36.1/42.8 MB 46.7 MB/s eta 0:00:01\n",
            "     ----------------------------------      37.6/42.8 MB 46.7 MB/s eta 0:00:01\n",
            "     ------------------------------------    40.0/42.8 MB 50.4 MB/s eta 0:00:01\n",
            "     --------------------------------------  42.3/42.8 MB 46.9 MB/s eta 0:00:01\n",
            "     --------------------------------------  42.8/42.8 MB 46.9 MB/s eta 0:00:01\n",
            "     --------------------------------------  42.8/42.8 MB 46.9 MB/s eta 0:00:01\n",
            "     --------------------------------------  42.8/42.8 MB 46.9 MB/s eta 0:00:01\n",
            "     --------------------------------------- 42.8/42.8 MB 27.3 MB/s eta 0:00:00\n",
            "Requirement already satisfied: spacy<3.7.0,>=3.6.0 in c:\\users\\rahul\\appdata\\local\\programs\\python\\python311\\lib\\site-packages (from en-core-web-md==3.6.0) (3.6.1)\n",
            "Requirement already satisfied: spacy-legacy<3.1.0,>=3.0.11 in c:\\users\\rahul\\appdata\\local\\programs\\python\\python311\\lib\\site-packages (from spacy<3.7.0,>=3.6.0->en-core-web-md==3.6.0) (3.0.12)\n",
            "Requirement already satisfied: spacy-loggers<2.0.0,>=1.0.0 in c:\\users\\rahul\\appdata\\local\\programs\\python\\python311\\lib\\site-packages (from spacy<3.7.0,>=3.6.0->en-core-web-md==3.6.0) (1.0.5)\n",
            "Requirement already satisfied: murmurhash<1.1.0,>=0.28.0 in c:\\users\\rahul\\appdata\\local\\programs\\python\\python311\\lib\\site-packages (from spacy<3.7.0,>=3.6.0->en-core-web-md==3.6.0) (1.0.10)\n",
            "Requirement already satisfied: cymem<2.1.0,>=2.0.2 in c:\\users\\rahul\\appdata\\local\\programs\\python\\python311\\lib\\site-packages (from spacy<3.7.0,>=3.6.0->en-core-web-md==3.6.0) (2.0.8)\n",
            "Requirement already satisfied: preshed<3.1.0,>=3.0.2 in c:\\users\\rahul\\appdata\\local\\programs\\python\\python311\\lib\\site-packages (from spacy<3.7.0,>=3.6.0->en-core-web-md==3.6.0) (3.0.9)\n",
            "Requirement already satisfied: thinc<8.2.0,>=8.1.8 in c:\\users\\rahul\\appdata\\local\\programs\\python\\python311\\lib\\site-packages (from spacy<3.7.0,>=3.6.0->en-core-web-md==3.6.0) (8.1.12)\n",
            "Requirement already satisfied: wasabi<1.2.0,>=0.9.1 in c:\\users\\rahul\\appdata\\local\\programs\\python\\python311\\lib\\site-packages (from spacy<3.7.0,>=3.6.0->en-core-web-md==3.6.0) (1.1.2)\n",
            "Requirement already satisfied: srsly<3.0.0,>=2.4.3 in c:\\users\\rahul\\appdata\\local\\programs\\python\\python311\\lib\\site-packages (from spacy<3.7.0,>=3.6.0->en-core-web-md==3.6.0) (2.4.7)\n",
            "Requirement already satisfied: catalogue<2.1.0,>=2.0.6 in c:\\users\\rahul\\appdata\\local\\programs\\python\\python311\\lib\\site-packages (from spacy<3.7.0,>=3.6.0->en-core-web-md==3.6.0) (2.0.9)\n",
            "Requirement already satisfied: typer<0.10.0,>=0.3.0 in c:\\users\\rahul\\appdata\\local\\programs\\python\\python311\\lib\\site-packages (from spacy<3.7.0,>=3.6.0->en-core-web-md==3.6.0) (0.9.0)\n",
            "Requirement already satisfied: pathy>=0.10.0 in c:\\users\\rahul\\appdata\\local\\programs\\python\\python311\\lib\\site-packages (from spacy<3.7.0,>=3.6.0->en-core-web-md==3.6.0) (0.10.2)\n",
            "Requirement already satisfied: smart-open<7.0.0,>=5.2.1 in c:\\users\\rahul\\appdata\\local\\programs\\python\\python311\\lib\\site-packages (from spacy<3.7.0,>=3.6.0->en-core-web-md==3.6.0) (6.4.0)\n",
            "Requirement already satisfied: tqdm<5.0.0,>=4.38.0 in c:\\users\\rahul\\appdata\\local\\programs\\python\\python311\\lib\\site-packages (from spacy<3.7.0,>=3.6.0->en-core-web-md==3.6.0) (4.65.0)\n",
            "Requirement already satisfied: numpy>=1.15.0 in c:\\users\\rahul\\appdata\\local\\programs\\python\\python311\\lib\\site-packages (from spacy<3.7.0,>=3.6.0->en-core-web-md==3.6.0) (1.24.3)\n",
            "Requirement already satisfied: requests<3.0.0,>=2.13.0 in c:\\users\\rahul\\appdata\\local\\programs\\python\\python311\\lib\\site-packages (from spacy<3.7.0,>=3.6.0->en-core-web-md==3.6.0) (2.31.0)\n",
            "Requirement already satisfied: pydantic!=1.8,!=1.8.1,<3.0.0,>=1.7.4 in c:\\users\\rahul\\appdata\\local\\programs\\python\\python311\\lib\\site-packages (from spacy<3.7.0,>=3.6.0->en-core-web-md==3.6.0) (2.3.0)\n",
            "Requirement already satisfied: jinja2 in c:\\users\\rahul\\appdata\\local\\programs\\python\\python311\\lib\\site-packages (from spacy<3.7.0,>=3.6.0->en-core-web-md==3.6.0) (3.1.2)\n",
            "Requirement already satisfied: setuptools in c:\\users\\rahul\\appdata\\local\\programs\\python\\python311\\lib\\site-packages (from spacy<3.7.0,>=3.6.0->en-core-web-md==3.6.0) (65.5.0)\n",
            "Requirement already satisfied: packaging>=20.0 in c:\\users\\rahul\\appdata\\roaming\\python\\python311\\site-packages (from spacy<3.7.0,>=3.6.0->en-core-web-md==3.6.0) (23.1)\n",
            "Requirement already satisfied: langcodes<4.0.0,>=3.2.0 in c:\\users\\rahul\\appdata\\local\\programs\\python\\python311\\lib\\site-packages (from spacy<3.7.0,>=3.6.0->en-core-web-md==3.6.0) (3.3.0)\n",
            "Requirement already satisfied: annotated-types>=0.4.0 in c:\\users\\rahul\\appdata\\local\\programs\\python\\python311\\lib\\site-packages (from pydantic!=1.8,!=1.8.1,<3.0.0,>=1.7.4->spacy<3.7.0,>=3.6.0->en-core-web-md==3.6.0) (0.5.0)\n",
            "Requirement already satisfied: pydantic-core==2.6.3 in c:\\users\\rahul\\appdata\\local\\programs\\python\\python311\\lib\\site-packages (from pydantic!=1.8,!=1.8.1,<3.0.0,>=1.7.4->spacy<3.7.0,>=3.6.0->en-core-web-md==3.6.0) (2.6.3)\n",
            "Requirement already satisfied: typing-extensions>=4.6.1 in c:\\users\\rahul\\appdata\\local\\programs\\python\\python311\\lib\\site-packages (from pydantic!=1.8,!=1.8.1,<3.0.0,>=1.7.4->spacy<3.7.0,>=3.6.0->en-core-web-md==3.6.0) (4.8.0)\n",
            "Requirement already satisfied: charset-normalizer<4,>=2 in c:\\users\\rahul\\appdata\\local\\programs\\python\\python311\\lib\\site-packages (from requests<3.0.0,>=2.13.0->spacy<3.7.0,>=3.6.0->en-core-web-md==3.6.0) (3.2.0)\n",
            "Requirement already satisfied: idna<4,>=2.5 in c:\\users\\rahul\\appdata\\local\\programs\\python\\python311\\lib\\site-packages (from requests<3.0.0,>=2.13.0->spacy<3.7.0,>=3.6.0->en-core-web-md==3.6.0) (3.4)\n",
            "Requirement already satisfied: urllib3<3,>=1.21.1 in c:\\users\\rahul\\appdata\\local\\programs\\python\\python311\\lib\\site-packages (from requests<3.0.0,>=2.13.0->spacy<3.7.0,>=3.6.0->en-core-web-md==3.6.0) (1.26.16)\n",
            "Requirement already satisfied: certifi>=2017.4.17 in c:\\users\\rahul\\appdata\\local\\programs\\python\\python311\\lib\\site-packages (from requests<3.0.0,>=2.13.0->spacy<3.7.0,>=3.6.0->en-core-web-md==3.6.0) (2023.7.22)\n",
            "Requirement already satisfied: blis<0.8.0,>=0.7.8 in c:\\users\\rahul\\appdata\\local\\programs\\python\\python311\\lib\\site-packages (from thinc<8.2.0,>=8.1.8->spacy<3.7.0,>=3.6.0->en-core-web-md==3.6.0) (0.7.10)\n",
            "Requirement already satisfied: confection<1.0.0,>=0.0.1 in c:\\users\\rahul\\appdata\\local\\programs\\python\\python311\\lib\\site-packages (from thinc<8.2.0,>=8.1.8->spacy<3.7.0,>=3.6.0->en-core-web-md==3.6.0) (0.1.3)\n",
            "Requirement already satisfied: colorama in c:\\users\\rahul\\appdata\\roaming\\python\\python311\\site-packages (from tqdm<5.0.0,>=4.38.0->spacy<3.7.0,>=3.6.0->en-core-web-md==3.6.0) (0.4.6)\n",
            "Requirement already satisfied: click<9.0.0,>=7.1.1 in c:\\users\\rahul\\appdata\\local\\programs\\python\\python311\\lib\\site-packages (from typer<0.10.0,>=0.3.0->spacy<3.7.0,>=3.6.0->en-core-web-md==3.6.0) (8.1.6)\n",
            "Requirement already satisfied: MarkupSafe>=2.0 in c:\\users\\rahul\\appdata\\local\\programs\\python\\python311\\lib\\site-packages (from jinja2->spacy<3.7.0,>=3.6.0->en-core-web-md==3.6.0) (2.1.3)\n",
            "\u001b[38;5;2m✔ Download and installation successful\u001b[0m\n",
            "You can now load the package via spacy.load('en_core_web_md')\n"
          ]
        },
        {
          "name": "stderr",
          "output_type": "stream",
          "text": [
            "\n",
            "[notice] A new release of pip is available: 23.1.2 -> 23.2.1\n",
            "[notice] To update, run: python.exe -m pip install --upgrade pip\n"
          ]
        }
      ],
      "source": [
        "!python -m spacy download en_core_web_md "
      ]
    },
    {
      "cell_type": "code",
      "execution_count": 78,
      "metadata": {
        "colab": {
          "base_uri": "https://localhost:8080/"
        },
        "id": "J3twrCC10Opf",
        "outputId": "54d19b43-ea60-451e-dafa-f8b8d32370bb"
      },
      "outputs": [
        {
          "name": "stderr",
          "output_type": "stream",
          "text": [
            "[nltk_data] Downloading package punkt to\n",
            "[nltk_data]     C:\\Users\\rahul\\AppData\\Roaming\\nltk_data...\n",
            "[nltk_data]   Package punkt is already up-to-date!\n",
            "[nltk_data] Downloading package stopwords to\n",
            "[nltk_data]     C:\\Users\\rahul\\AppData\\Roaming\\nltk_data...\n",
            "[nltk_data]   Package stopwords is already up-to-date!\n",
            "[nltk_data] Downloading package vader_lexicon to\n",
            "[nltk_data]     C:\\Users\\rahul\\AppData\\Roaming\\nltk_data...\n",
            "[nltk_data]   Package vader_lexicon is already up-to-date!\n"
          ]
        }
      ],
      "source": [
        "#importing libraries\n",
        "import random\n",
        "import pandas as pd\n",
        "import numpy as np\n",
        "import matplotlib.pyplot as plt\n",
        "import seaborn as sns\n",
        "import re\n",
        "from collections import Counter\n",
        "import nltk\n",
        "nltk.download('punkt')\n",
        "nltk.download('stopwords')\n",
        "nltk.download('vader_lexicon')\n",
        "from nltk.corpus import stopwords\n",
        "from collections import Counter\n",
        "from sklearn.linear_model import LinearRegression\n",
        "from itertools import product\n",
        "from sklearn.feature_extraction.text import CountVectorizer\n",
        "from nltk.tokenize import RegexpTokenizer, word_tokenize\n",
        "from nltk.stem import WordNetLemmatizer\n",
        "from numpy.linalg import norm\n",
        "from math import log\n",
        "from sklearn.metrics.pairwise import cosine_similarity\n",
        "from sklearn.feature_extraction.text import TfidfVectorizer\n",
        "from vaderSentiment.vaderSentiment  import  SentimentIntensityAnalyzer\n",
        "import spacy\n",
        "stopwords = stopwords.words('english')\n",
        "\n",
        "\n",
        "%matplotlib inline\n",
        "sns.set(color_codes = True)"
      ]
    },
    {
      "cell_type": "code",
      "execution_count": 79,
      "metadata": {
        "colab": {
          "base_uri": "https://localhost:8080/"
        },
        "id": "_Q7BLqt81wTC",
        "outputId": "3e15f4af-c3a6-4ba6-e980-4dd28e4d391a"
      },
      "outputs": [],
      "source": [
        "# from google.colab import drive\n",
        "# drive.mount('/content/drive')"
      ]
    },
    {
      "cell_type": "code",
      "execution_count": 80,
      "metadata": {
        "id": "Bl2yA8PW0Oph"
      },
      "outputs": [],
      "source": [
        "df=pd.read_excel('beer-reviews.xlsx')\n"
      ]
    },
    {
      "cell_type": "code",
      "execution_count": 81,
      "metadata": {
        "colab": {
          "base_uri": "https://localhost:8080/",
          "height": 206
        },
        "id": "ZYPRgRXsjLYs",
        "outputId": "5d53c061-1665-46e1-9fea-9164f25c1eb5"
      },
      "outputs": [
        {
          "data": {
            "text/html": [
              "<div>\n",
              "<style scoped>\n",
              "    .dataframe tbody tr th:only-of-type {\n",
              "        vertical-align: middle;\n",
              "    }\n",
              "\n",
              "    .dataframe tbody tr th {\n",
              "        vertical-align: top;\n",
              "    }\n",
              "\n",
              "    .dataframe thead th {\n",
              "        text-align: right;\n",
              "    }\n",
              "</style>\n",
              "<table border=\"1\" class=\"dataframe\">\n",
              "  <thead>\n",
              "    <tr style=\"text-align: right;\">\n",
              "      <th></th>\n",
              "      <th>item</th>\n",
              "      <th>body</th>\n",
              "      <th>rating</th>\n",
              "    </tr>\n",
              "  </thead>\n",
              "  <tbody>\n",
              "    <tr>\n",
              "      <th>0</th>\n",
              "      <td>Kentucky Brunch Brand Stout</td>\n",
              "      <td>Amazing stout, expensive but worth the price!</td>\n",
              "      <td>5.00</td>\n",
              "    </tr>\n",
              "    <tr>\n",
              "      <th>1</th>\n",
              "      <td>Kentucky Brunch Brand Stout</td>\n",
              "      <td>This beer meet and exceeded all the unreal hyp...</td>\n",
              "      <td>5.00</td>\n",
              "    </tr>\n",
              "    <tr>\n",
              "      <th>2</th>\n",
              "      <td>Kentucky Brunch Brand Stout</td>\n",
              "      <td>Let it sit and warm to the room a little ... u...</td>\n",
              "      <td>5.00</td>\n",
              "    </tr>\n",
              "    <tr>\n",
              "      <th>3</th>\n",
              "      <td>Kentucky Brunch Brand Stout</td>\n",
              "      <td>A small pour, ebony dark, no real head. Intens...</td>\n",
              "      <td>4.67</td>\n",
              "    </tr>\n",
              "    <tr>\n",
              "      <th>4</th>\n",
              "      <td>Kentucky Brunch Brand Stout</td>\n",
              "      <td>Vintage 2022, served on tap at Toppling Goliat...</td>\n",
              "      <td>5.00</td>\n",
              "    </tr>\n",
              "  </tbody>\n",
              "</table>\n",
              "</div>"
            ],
            "text/plain": [
              "                          item  \\\n",
              "0  Kentucky Brunch Brand Stout   \n",
              "1  Kentucky Brunch Brand Stout   \n",
              "2  Kentucky Brunch Brand Stout   \n",
              "3  Kentucky Brunch Brand Stout   \n",
              "4  Kentucky Brunch Brand Stout   \n",
              "\n",
              "                                                body  rating  \n",
              "0      Amazing stout, expensive but worth the price!    5.00  \n",
              "1  This beer meet and exceeded all the unreal hyp...    5.00  \n",
              "2  Let it sit and warm to the room a little ... u...    5.00  \n",
              "3  A small pour, ebony dark, no real head. Intens...    4.67  \n",
              "4  Vintage 2022, served on tap at Toppling Goliat...    5.00  "
            ]
          },
          "execution_count": 81,
          "metadata": {},
          "output_type": "execute_result"
        }
      ],
      "source": [
        "df.head()"
      ]
    },
    {
      "cell_type": "markdown",
      "metadata": {
        "id": "VzGJCzXujK9a"
      },
      "source": []
    },
    {
      "cell_type": "code",
      "execution_count": 82,
      "metadata": {
        "colab": {
          "base_uri": "https://localhost:8080/"
        },
        "id": "_oYzR3pm0Opi",
        "outputId": "dd7f8ec2-08ad-4ab9-8ebc-0e594fc4a2c3"
      },
      "outputs": [
        {
          "data": {
            "text/plain": [
              "0                     amazing stout expensive worth price\n",
              "1           beer meet exceeded unreal hype simply amazing\n",
              "2                   let sit warm room little unbelievable\n",
              "3       small pour ebony dark real head intense rich a...\n",
              "4       vintage 2022 served tap toppling goliath snuli...\n",
              "                              ...                        \n",
              "6626    poured bottle snifter home thanks darin share ...\n",
              "6627    good god man holy shit really good beer blesse...\n",
              "6628    appearance bubble show lifts head fullsome thr...\n",
              "6629    pours sure describe color golden yellow brown ...\n",
              "6630    tropical nose sweet like sunnyd nice acidity a...\n",
              "Name: body, Length: 6631, dtype: object"
            ]
          },
          "execution_count": 82,
          "metadata": {},
          "output_type": "execute_result"
        }
      ],
      "source": [
        "\n",
        "def remove_stopwords(text):\n",
        "    words = nltk.word_tokenize(text)\n",
        "    stop_words = set(stopwords)\n",
        "    filtered_words = [word for word in words if word.lower() not in stop_words]\n",
        "    filtered_words = [word for word in filtered_words if word.isalnum()]\n",
        "    return \" \".join(filtered_words)\n",
        "df['body']=df['body'].str.lower()\n",
        "\n",
        "df['body'] = df['body'].astype(str).apply(remove_stopwords)\n",
        "df['body']\n"
      ]
    },
    {
      "cell_type": "markdown",
      "metadata": {
        "id": "aLPiUcej0Opi"
      },
      "source": [
        "# Task B\n",
        "Assume that a customer, who will be using this recommender system, has specified 3 attributes\n",
        "in a product. E.g., one website describes multiple attributes of beer (but you should choose attributes\n",
        "from the actual data)\n",
        "Perform a word frequency analysis of beer reviews is a better way\n",
        "to find important attributes in the actual data."
      ]
    },
    {
      "cell_type": "code",
      "execution_count": 83,
      "metadata": {
        "id": "CSZ-lbX50Opk"
      },
      "outputs": [],
      "source": [
        "beer_attributes = [\n",
        "    \"aromatic\", \"hoppy\", \"malty\", \"bitter\", \"sweet\", \"sour\", \"fruity\", \"citrusy\", \"spicy\", \"floral\", \"earthy\", \"woody\", \"herbal\", \"caramel\",\n",
        "    \"roasty\", \"nutty\", \"chocolatey\", \"smoky\", \"creamy\", \"crisp\", \"smooth\", \"hazy\", \"clear\", \"cloudy\", \"full-bodied\", \"light-bodied\",\n",
        "    \"refreshing\", \"complex\", \"balanced\", \"robust\", \"dry\", \"sweetness\", \"alcohol content\", \"carbonation\", \"mouthfeel\", \"aftertaste\",\n",
        "    \"head retention\", \"astringency\", \"esters\", \"phenols\", \"acidity\", \"diacetyl\", \"yeastiness\", \"clarification\", \"oxidation\", \"temperature\",\n",
        "    \"abv (alcohol by volume)\", \"ibu (international bitterness units)\", \"srm (standard reference method)\", \"gravity\", \"fermentation\", \"lagering\",\n",
        "    \"ale\", \"pilsner\", \"stout\", \"porter\", \"wheat\", \"lambic\", \"saison\", \"ipa (india pale ale)\", \"apa (american pale ale)\", \"dipa (double ipa)\",\n",
        "    \"tripel\", \"quadrupel\", \"belgian\", \"german\", \"british\", \"american\", \"czech\", \"irish\", \"scottish\", \"baltic\", \"hefeweizen\", \"kolsch\", \"barleywine\",\n",
        "    \"sours\", \"barrel-aged\", \"tropical\", \"funky\", \"crispy\", \"toasty\", \"tangy\", \"savory\", \"juicy\", \"effervescent\", \"velvety\", \"silky\", \"pungent\",\n",
        "    \"robust\", \"elegant\", \"velvety\", \"bold\", \"harmonious\", \"well-rounded\", \"intense\", \"layered\"]"
      ]
    },
    {
      "cell_type": "code",
      "execution_count": 84,
      "metadata": {
        "colab": {
          "base_uri": "https://localhost:8080/",
          "height": 423
        },
        "id": "xEtvp0PN0Opk",
        "outputId": "79b2f00a-ba96-4f18-fdc4-01f0f4ff4617"
      },
      "outputs": [
        {
          "data": {
            "text/html": [
              "<div>\n",
              "<style scoped>\n",
              "    .dataframe tbody tr th:only-of-type {\n",
              "        vertical-align: middle;\n",
              "    }\n",
              "\n",
              "    .dataframe tbody tr th {\n",
              "        vertical-align: top;\n",
              "    }\n",
              "\n",
              "    .dataframe thead th {\n",
              "        text-align: right;\n",
              "    }\n",
              "</style>\n",
              "<table border=\"1\" class=\"dataframe\">\n",
              "  <thead>\n",
              "    <tr style=\"text-align: right;\">\n",
              "      <th></th>\n",
              "      <th>word</th>\n",
              "      <th>frequency</th>\n",
              "    </tr>\n",
              "  </thead>\n",
              "  <tbody>\n",
              "    <tr>\n",
              "      <th>1829</th>\n",
              "      <td>beer</td>\n",
              "      <td>5266</td>\n",
              "    </tr>\n",
              "    <tr>\n",
              "      <th>7320</th>\n",
              "      <td>head</td>\n",
              "      <td>3650</td>\n",
              "    </tr>\n",
              "    <tr>\n",
              "      <th>14880</th>\n",
              "      <td>taste</td>\n",
              "      <td>3483</td>\n",
              "    </tr>\n",
              "    <tr>\n",
              "      <th>8867</th>\n",
              "      <td>light</td>\n",
              "      <td>2891</td>\n",
              "    </tr>\n",
              "    <tr>\n",
              "      <th>8885</th>\n",
              "      <td>like</td>\n",
              "      <td>2537</td>\n",
              "    </tr>\n",
              "    <tr>\n",
              "      <th>...</th>\n",
              "      <td>...</td>\n",
              "      <td>...</td>\n",
              "    </tr>\n",
              "    <tr>\n",
              "      <th>7520</th>\n",
              "      <td>hoax</td>\n",
              "      <td>1</td>\n",
              "    </tr>\n",
              "    <tr>\n",
              "      <th>7521</th>\n",
              "      <td>hobbyists</td>\n",
              "      <td>1</td>\n",
              "    </tr>\n",
              "    <tr>\n",
              "      <th>7526</th>\n",
              "      <td>hog</td>\n",
              "      <td>1</td>\n",
              "    </tr>\n",
              "    <tr>\n",
              "      <th>7527</th>\n",
              "      <td>hogan</td>\n",
              "      <td>1</td>\n",
              "    </tr>\n",
              "    <tr>\n",
              "      <th>16812</th>\n",
              "      <td>zythos</td>\n",
              "      <td>1</td>\n",
              "    </tr>\n",
              "  </tbody>\n",
              "</table>\n",
              "<p>16813 rows × 2 columns</p>\n",
              "</div>"
            ],
            "text/plain": [
              "            word  frequency\n",
              "1829        beer       5266\n",
              "7320        head       3650\n",
              "14880      taste       3483\n",
              "8867       light       2891\n",
              "8885        like       2537\n",
              "...          ...        ...\n",
              "7520        hoax          1\n",
              "7521   hobbyists          1\n",
              "7526         hog          1\n",
              "7527       hogan          1\n",
              "16812     zythos          1\n",
              "\n",
              "[16813 rows x 2 columns]"
            ]
          },
          "execution_count": 84,
          "metadata": {},
          "output_type": "execute_result"
        }
      ],
      "source": [
        "# Calculate word frequencies using CountVectorizer\n",
        "vectorizer = CountVectorizer()\n",
        "X = vectorizer.fit_transform(df['body'])\n",
        "\n",
        "# Calculate the frequency of each word in the reviews\n",
        "word_frequencies = pd.DataFrame({'word': vectorizer.get_feature_names_out(), 'frequency': np.array(X.sum(axis=0))[0]})\n",
        "word_frequencies=word_frequencies.sort_values(['frequency'],ascending=False)\n",
        "word_frequencies"
      ]
    },
    {
      "cell_type": "code",
      "execution_count": 85,
      "metadata": {
        "colab": {
          "base_uri": "https://localhost:8080/"
        },
        "id": "3YjF7ifw0Opk",
        "outputId": "47fa5320-9bd6-4542-d2c5-cd39bc2a2c6b"
      },
      "outputs": [
        {
          "name": "stdout",
          "output_type": "stream",
          "text": [
            "['sweet', 'carbonation', 'mouthfeel', 'smooth', 'caramel', 'clear', 'sweetness', 'dry', 'bitter', 'malty', 'creamy', 'stout', 'balanced', 'crisp', 'hazy', 'earthy', 'ale', 'sour', 'aftertaste', 'floral', 'fruity', 'refreshing', 'spicy', 'complex', 'hoppy', 'belgian', 'herbal', 'tropical', 'american', 'wheat', 'juicy', 'cloudy', 'funky', 'roasty', 'woody', 'intense', 'silky', 'pilsner', 'porter', 'bold', 'acidity', 'citrusy', 'toasty', 'nutty', 'german', 'barleywine', 'esters', 'saison', 'temperature', 'tripel', 'robust', 'effervescent', 'velvety', 'tangy', 'lambic', 'gravity', 'astringency', 'smoky', 'pungent', 'aromatic', 'hefeweizen', 'oxidation', 'diacetyl', 'chocolatey', 'sours', 'savory', 'phenols', 'fermentation', 'layered', 'irish', 'british', 'elegant', 'crispy', 'czech', 'yeastiness', 'baltic', 'quadrupel', 'scottish', 'harmonious', 'kolsch']\n"
          ]
        }
      ],
      "source": [
        "word_list = list(word_frequencies['word'])\n",
        "attributes = [x for x in word_list if x in beer_attributes]\n",
        "print(attributes)"
      ]
    },
    {
      "cell_type": "code",
      "execution_count": 86,
      "metadata": {
        "colab": {
          "base_uri": "https://localhost:8080/",
          "height": 423
        },
        "id": "m68Xt_x50Opl",
        "outputId": "5b1c1904-f737-4263-af1d-33de955237a3"
      },
      "outputs": [
        {
          "data": {
            "text/html": [
              "<div>\n",
              "<style scoped>\n",
              "    .dataframe tbody tr th:only-of-type {\n",
              "        vertical-align: middle;\n",
              "    }\n",
              "\n",
              "    .dataframe tbody tr th {\n",
              "        vertical-align: top;\n",
              "    }\n",
              "\n",
              "    .dataframe thead th {\n",
              "        text-align: right;\n",
              "    }\n",
              "</style>\n",
              "<table border=\"1\" class=\"dataframe\">\n",
              "  <thead>\n",
              "    <tr style=\"text-align: right;\">\n",
              "      <th></th>\n",
              "      <th>word</th>\n",
              "      <th>frequency</th>\n",
              "    </tr>\n",
              "  </thead>\n",
              "  <tbody>\n",
              "    <tr>\n",
              "      <th>0</th>\n",
              "      <td>sweet</td>\n",
              "      <td>2145</td>\n",
              "    </tr>\n",
              "    <tr>\n",
              "      <th>1</th>\n",
              "      <td>carbonation</td>\n",
              "      <td>1825</td>\n",
              "    </tr>\n",
              "    <tr>\n",
              "      <th>2</th>\n",
              "      <td>mouthfeel</td>\n",
              "      <td>1175</td>\n",
              "    </tr>\n",
              "    <tr>\n",
              "      <th>3</th>\n",
              "      <td>smooth</td>\n",
              "      <td>1042</td>\n",
              "    </tr>\n",
              "    <tr>\n",
              "      <th>4</th>\n",
              "      <td>caramel</td>\n",
              "      <td>966</td>\n",
              "    </tr>\n",
              "    <tr>\n",
              "      <th>...</th>\n",
              "      <td>...</td>\n",
              "      <td>...</td>\n",
              "    </tr>\n",
              "    <tr>\n",
              "      <th>75</th>\n",
              "      <td>baltic</td>\n",
              "      <td>8</td>\n",
              "    </tr>\n",
              "    <tr>\n",
              "      <th>76</th>\n",
              "      <td>quadrupel</td>\n",
              "      <td>5</td>\n",
              "    </tr>\n",
              "    <tr>\n",
              "      <th>77</th>\n",
              "      <td>scottish</td>\n",
              "      <td>3</td>\n",
              "    </tr>\n",
              "    <tr>\n",
              "      <th>78</th>\n",
              "      <td>harmonious</td>\n",
              "      <td>3</td>\n",
              "    </tr>\n",
              "    <tr>\n",
              "      <th>79</th>\n",
              "      <td>kolsch</td>\n",
              "      <td>1</td>\n",
              "    </tr>\n",
              "  </tbody>\n",
              "</table>\n",
              "<p>80 rows × 2 columns</p>\n",
              "</div>"
            ],
            "text/plain": [
              "           word  frequency\n",
              "0         sweet       2145\n",
              "1   carbonation       1825\n",
              "2     mouthfeel       1175\n",
              "3        smooth       1042\n",
              "4       caramel        966\n",
              "..          ...        ...\n",
              "75       baltic          8\n",
              "76    quadrupel          5\n",
              "77     scottish          3\n",
              "78   harmonious          3\n",
              "79       kolsch          1\n",
              "\n",
              "[80 rows x 2 columns]"
            ]
          },
          "execution_count": 86,
          "metadata": {},
          "output_type": "execute_result"
        }
      ],
      "source": [
        "array_df = pd.DataFrame({'attribute': attributes})\n",
        "attr_word_freq=word_frequencies.merge(array_df,left_on='word', right_on='attribute')\n",
        "attr_word_freq= attr_word_freq.drop('attribute',axis=1)\n",
        "attr_word_freq"
      ]
    },
    {
      "cell_type": "markdown",
      "metadata": {
        "id": "yLvaDsgk3ej8"
      },
      "source": [
        "## Task C\n",
        "\n",
        "Perform a similarity analysis using cosine similarity (without word embeddings) with the 3 attributes specified by the customer and the reviews.\n",
        "The similarity script should accept as input a file with the product attributes, and calculate similarity scores (between 0 and 1) between these attributes and each review. That is, the output file should have 3 columns – product_name (for each product, the product_name will repeat as many times as there are reviews of the product), product_review and similarity_score.\n"
      ]
    },
    {
      "cell_type": "code",
      "execution_count": 87,
      "metadata": {
        "colab": {
          "base_uri": "https://localhost:8080/"
        },
        "id": "-S1zqYSL3Z9W",
        "outputId": "d8093ff4-6846-4a31-e55c-b349f61ed7f6"
      },
      "outputs": [
        {
          "data": {
            "text/plain": [
              "['sweet', 'carbonation', 'mouthfeel']"
            ]
          },
          "execution_count": 87,
          "metadata": {},
          "output_type": "execute_result"
        }
      ],
      "source": [
        "#open text file in read mode\n",
        "text_file = open(\"attributes.txt\", \"r\")\n",
        "user_pref = text_file.read().lower()\n",
        "#close file\n",
        "\n",
        "text_file.close()\n",
        "\n",
        "words_to_compare = user_pref.split(',')\n",
        "\n",
        "words_to_compare = [word.strip() for word in words_to_compare]\n",
        "\n",
        "words_to_compare"
      ]
    },
    {
      "cell_type": "code",
      "execution_count": 88,
      "metadata": {
        "colab": {
          "base_uri": "https://localhost:8080/",
          "height": 423
        },
        "id": "yydS-P4scMAW",
        "outputId": "d4ab5860-94dd-4d08-d305-632b25a5199b"
      },
      "outputs": [
        {
          "data": {
            "text/html": [
              "<div>\n",
              "<style scoped>\n",
              "    .dataframe tbody tr th:only-of-type {\n",
              "        vertical-align: middle;\n",
              "    }\n",
              "\n",
              "    .dataframe tbody tr th {\n",
              "        vertical-align: top;\n",
              "    }\n",
              "\n",
              "    .dataframe thead th {\n",
              "        text-align: right;\n",
              "    }\n",
              "</style>\n",
              "<table border=\"1\" class=\"dataframe\">\n",
              "  <thead>\n",
              "    <tr style=\"text-align: right;\">\n",
              "      <th></th>\n",
              "      <th>Product Name</th>\n",
              "      <th>Product Review</th>\n",
              "      <th>Similarity Score</th>\n",
              "    </tr>\n",
              "  </thead>\n",
              "  <tbody>\n",
              "    <tr>\n",
              "      <th>3374</th>\n",
              "      <td>Imperial Biscotti Break</td>\n",
              "      <td>pours dark brown small tan cap light lacing sm...</td>\n",
              "      <td>0.57735</td>\n",
              "    </tr>\n",
              "    <tr>\n",
              "      <th>3741</th>\n",
              "      <td>Schaefer Light</td>\n",
              "      <td>silly attempt philosophical description review...</td>\n",
              "      <td>0.57735</td>\n",
              "    </tr>\n",
              "    <tr>\n",
              "      <th>5438</th>\n",
              "      <td>Oatmeal Stout</td>\n",
              "      <td>poured bottle pint glass appearance nearly bla...</td>\n",
              "      <td>0.57735</td>\n",
              "    </tr>\n",
              "    <tr>\n",
              "      <th>2200</th>\n",
              "      <td>Mirror Pond Pale Ale</td>\n",
              "      <td>one dozen years since last reviewed 12oz tulip...</td>\n",
              "      <td>0.57735</td>\n",
              "    </tr>\n",
              "    <tr>\n",
              "      <th>5209</th>\n",
              "      <td>Desperados</td>\n",
              "      <td>poured 330ml bottle pours dark straw tight bub...</td>\n",
              "      <td>0.57735</td>\n",
              "    </tr>\n",
              "    <tr>\n",
              "      <th>...</th>\n",
              "      <td>...</td>\n",
              "      <td>...</td>\n",
              "      <td>...</td>\n",
              "    </tr>\n",
              "    <tr>\n",
              "      <th>2923</th>\n",
              "      <td>New</td>\n",
              "      <td>curious lack destinct flavor</td>\n",
              "      <td>0.00000</td>\n",
              "    </tr>\n",
              "    <tr>\n",
              "      <th>2924</th>\n",
              "      <td>New</td>\n",
              "      <td>grainy worth try</td>\n",
              "      <td>0.00000</td>\n",
              "    </tr>\n",
              "    <tr>\n",
              "      <th>2925</th>\n",
              "      <td>Voodoo Ranger Fruit Force</td>\n",
              "      <td>disgusting shameful real crappy beer new belgi...</td>\n",
              "      <td>0.00000</td>\n",
              "    </tr>\n",
              "    <tr>\n",
              "      <th>2927</th>\n",
              "      <td>Voodoo Ranger Fruit Force</td>\n",
              "      <td>transported back 1969 memory stirring glass ha...</td>\n",
              "      <td>0.00000</td>\n",
              "    </tr>\n",
              "    <tr>\n",
              "      <th>3315</th>\n",
              "      <td>Pilsner Urquell</td>\n",
              "      <td>pours light fluffy white head looks perfect st...</td>\n",
              "      <td>0.00000</td>\n",
              "    </tr>\n",
              "  </tbody>\n",
              "</table>\n",
              "<p>6631 rows × 3 columns</p>\n",
              "</div>"
            ],
            "text/plain": [
              "                   Product Name  \\\n",
              "3374    Imperial Biscotti Break   \n",
              "3741             Schaefer Light   \n",
              "5438              Oatmeal Stout   \n",
              "2200       Mirror Pond Pale Ale   \n",
              "5209                 Desperados   \n",
              "...                         ...   \n",
              "2923                        New   \n",
              "2924                        New   \n",
              "2925  Voodoo Ranger Fruit Force   \n",
              "2927  Voodoo Ranger Fruit Force   \n",
              "3315            Pilsner Urquell   \n",
              "\n",
              "                                         Product Review  Similarity Score  \n",
              "3374  pours dark brown small tan cap light lacing sm...           0.57735  \n",
              "3741  silly attempt philosophical description review...           0.57735  \n",
              "5438  poured bottle pint glass appearance nearly bla...           0.57735  \n",
              "2200  one dozen years since last reviewed 12oz tulip...           0.57735  \n",
              "5209  poured 330ml bottle pours dark straw tight bub...           0.57735  \n",
              "...                                                 ...               ...  \n",
              "2923                       curious lack destinct flavor           0.00000  \n",
              "2924                                   grainy worth try           0.00000  \n",
              "2925  disgusting shameful real crappy beer new belgi...           0.00000  \n",
              "2927  transported back 1969 memory stirring glass ha...           0.00000  \n",
              "3315  pours light fluffy white head looks perfect st...           0.00000  \n",
              "\n",
              "[6631 rows x 3 columns]"
            ]
          },
          "execution_count": 88,
          "metadata": {},
          "output_type": "execute_result"
        }
      ],
      "source": [
        "#performing cosine similarity\n",
        "\n",
        "# Create a CountVectorizer with a custom vocabulary\n",
        "vectorizer = CountVectorizer(vocabulary=words_to_compare)\n",
        "\n",
        "# Transform the 'body' column using CountVectorizer\n",
        "X = vectorizer.transform(df['body'])\n",
        "Y = vectorizer.transform(words_to_compare)\n",
        "# Calculate cosine similarity\n",
        "cosine_similarities = cosine_similarity(X, Y)\n",
        "\n",
        "# Create a new DataFrame with product name, product review, and similarity score\n",
        "result_df = pd.DataFrame({\n",
        "    'Product Name': df['item'],\n",
        "    'Product Review': df['body'],\n",
        "    'Similarity Score': cosine_similarities.mean(axis=1)\n",
        "})\n",
        "\n",
        "# Display the result DataFrame\n",
        "similarity_df = result_df.sort_values(by='Similarity Score',ascending = False)\n",
        "similarity_df"
      ]
    },
    {
      "cell_type": "code",
      "execution_count": 89,
      "metadata": {
        "colab": {
          "base_uri": "https://localhost:8080/",
          "height": 573
        },
        "id": "AgEVxkd8lWpw",
        "outputId": "69c1d9bb-3862-4886-f8cf-3bcd1deeafac"
      },
      "outputs": [
        {
          "data": {
            "image/png": "[encoded data removed]",
            "text/plain": [
              "<Figure size 800x600 with 1 Axes>"
            ]
          },
          "metadata": {},
          "output_type": "display_data"
        }
      ],
      "source": [
        "# Plot the distribution of similarity scores\n",
        "plt.figure(figsize=(8, 6))\n",
        "sns.histplot(data=similarity_df, x='Similarity Score', bins=10, kde=True)\n",
        "plt.xlabel('Similarity Score')\n",
        "plt.ylabel('Frequency')\n",
        "plt.title('Distribution of Similarity Scores')\n",
        "plt.show()"
      ]
    },
    {
      "cell_type": "markdown",
      "metadata": {
        "id": "kIM4l0Kqdzn8"
      },
      "source": [
        "## Task D\n",
        "\n",
        "For every review, perform a sentiment analysis (using VADER or any LLM). In case you have to change the default values of words in the VADER lexicon"
      ]
    },
    {
      "cell_type": "code",
      "execution_count": 90,
      "metadata": {
        "colab": {
          "base_uri": "https://localhost:8080/",
          "height": 614
        },
        "id": "P7-iVK02drfO",
        "outputId": "c16b30d8-b383-45bd-8813-6df2080ce58b"
      },
      "outputs": [
        {
          "data": {
            "text/html": [
              "<div>\n",
              "<style scoped>\n",
              "    .dataframe tbody tr th:only-of-type {\n",
              "        vertical-align: middle;\n",
              "    }\n",
              "\n",
              "    .dataframe tbody tr th {\n",
              "        vertical-align: top;\n",
              "    }\n",
              "\n",
              "    .dataframe thead th {\n",
              "        text-align: right;\n",
              "    }\n",
              "</style>\n",
              "<table border=\"1\" class=\"dataframe\">\n",
              "  <thead>\n",
              "    <tr style=\"text-align: right;\">\n",
              "      <th></th>\n",
              "      <th>Product Name</th>\n",
              "      <th>Product Review</th>\n",
              "      <th>Similarity Score</th>\n",
              "      <th>Sentiment Scores</th>\n",
              "    </tr>\n",
              "  </thead>\n",
              "  <tbody>\n",
              "    <tr>\n",
              "      <th>3374</th>\n",
              "      <td>Imperial Biscotti Break</td>\n",
              "      <td>pours dark brown small tan cap light lacing sm...</td>\n",
              "      <td>0.57735</td>\n",
              "      <td>{'neg': 0.086, 'neu': 0.679, 'pos': 0.235, 'co...</td>\n",
              "    </tr>\n",
              "    <tr>\n",
              "      <th>2879</th>\n",
              "      <td>Tynt Meadow</td>\n",
              "      <td>330ml bottle total wine kennesaw georgia appea...</td>\n",
              "      <td>0.57735</td>\n",
              "      <td>{'neg': 0.035, 'neu': 0.871, 'pos': 0.093, 'co...</td>\n",
              "    </tr>\n",
              "    <tr>\n",
              "      <th>6621</th>\n",
              "      <td>King JJJuliusss</td>\n",
              "      <td>poured snifter beer pours super hazy color mas...</td>\n",
              "      <td>0.57735</td>\n",
              "      <td>{'neg': 0.0, 'neu': 0.742, 'pos': 0.258, 'comp...</td>\n",
              "    </tr>\n",
              "    <tr>\n",
              "      <th>619</th>\n",
              "      <td>Abbaye Des Rocs [Brasserie Des Rocs Brune]</td>\n",
              "      <td>pours murky chestnut color red hints medium to...</td>\n",
              "      <td>0.57735</td>\n",
              "      <td>{'neg': 0.0, 'neu': 0.642, 'pos': 0.358, 'comp...</td>\n",
              "    </tr>\n",
              "    <tr>\n",
              "      <th>3099</th>\n",
              "      <td>Munich Fest</td>\n",
              "      <td>pours clear yellow straw color visible carbona...</td>\n",
              "      <td>0.57735</td>\n",
              "      <td>{'neg': 0.029, 'neu': 0.802, 'pos': 0.169, 'co...</td>\n",
              "    </tr>\n",
              "    <tr>\n",
              "      <th>...</th>\n",
              "      <td>...</td>\n",
              "      <td>...</td>\n",
              "      <td>...</td>\n",
              "      <td>...</td>\n",
              "    </tr>\n",
              "    <tr>\n",
              "      <th>5172</th>\n",
              "      <td>Michelob Ultra Amber</td>\n",
              "      <td>carbs 95 cals 4 abv 12 fl oz usd per sixer bou...</td>\n",
              "      <td>0.00000</td>\n",
              "      <td>{'neg': 0.113, 'neu': 0.632, 'pos': 0.256, 'co...</td>\n",
              "    </tr>\n",
              "    <tr>\n",
              "      <th>5918</th>\n",
              "      <td>Carlton Cold</td>\n",
              "      <td>looks like beer smells tastes like urine metal...</td>\n",
              "      <td>0.00000</td>\n",
              "      <td>{'neg': 0.166, 'neu': 0.61, 'pos': 0.224, 'com...</td>\n",
              "    </tr>\n",
              "    <tr>\n",
              "      <th>5917</th>\n",
              "      <td>Red Dog</td>\n",
              "      <td>dog came back rescued thought gone got back be...</td>\n",
              "      <td>0.00000</td>\n",
              "      <td>{'neg': 0.054, 'neu': 0.603, 'pos': 0.343, 'co...</td>\n",
              "    </tr>\n",
              "    <tr>\n",
              "      <th>5173</th>\n",
              "      <td>Michelob Ultra Amber</td>\n",
              "      <td>like solid light easy drinking beer</td>\n",
              "      <td>0.00000</td>\n",
              "      <td>{'neg': 0.0, 'neu': 0.3, 'pos': 0.7, 'compound...</td>\n",
              "    </tr>\n",
              "    <tr>\n",
              "      <th>3315</th>\n",
              "      <td>Pilsner Urquell</td>\n",
              "      <td>pours light fluffy white head looks perfect st...</td>\n",
              "      <td>0.00000</td>\n",
              "      <td>{'neg': 0.062, 'neu': 0.716, 'pos': 0.222, 'co...</td>\n",
              "    </tr>\n",
              "  </tbody>\n",
              "</table>\n",
              "<p>6631 rows × 4 columns</p>\n",
              "</div>"
            ],
            "text/plain": [
              "                                    Product Name  \\\n",
              "3374                     Imperial Biscotti Break   \n",
              "2879                                 Tynt Meadow   \n",
              "6621                             King JJJuliusss   \n",
              "619   Abbaye Des Rocs [Brasserie Des Rocs Brune]   \n",
              "3099                                 Munich Fest   \n",
              "...                                          ...   \n",
              "5172                        Michelob Ultra Amber   \n",
              "5918                                Carlton Cold   \n",
              "5917                                     Red Dog   \n",
              "5173                        Michelob Ultra Amber   \n",
              "3315                             Pilsner Urquell   \n",
              "\n",
              "                                         Product Review  Similarity Score  \\\n",
              "3374  pours dark brown small tan cap light lacing sm...           0.57735   \n",
              "2879  330ml bottle total wine kennesaw georgia appea...           0.57735   \n",
              "6621  poured snifter beer pours super hazy color mas...           0.57735   \n",
              "619   pours murky chestnut color red hints medium to...           0.57735   \n",
              "3099  pours clear yellow straw color visible carbona...           0.57735   \n",
              "...                                                 ...               ...   \n",
              "5172  carbs 95 cals 4 abv 12 fl oz usd per sixer bou...           0.00000   \n",
              "5918  looks like beer smells tastes like urine metal...           0.00000   \n",
              "5917  dog came back rescued thought gone got back be...           0.00000   \n",
              "5173                like solid light easy drinking beer           0.00000   \n",
              "3315  pours light fluffy white head looks perfect st...           0.00000   \n",
              "\n",
              "                                       Sentiment Scores  \n",
              "3374  {'neg': 0.086, 'neu': 0.679, 'pos': 0.235, 'co...  \n",
              "2879  {'neg': 0.035, 'neu': 0.871, 'pos': 0.093, 'co...  \n",
              "6621  {'neg': 0.0, 'neu': 0.742, 'pos': 0.258, 'comp...  \n",
              "619   {'neg': 0.0, 'neu': 0.642, 'pos': 0.358, 'comp...  \n",
              "3099  {'neg': 0.029, 'neu': 0.802, 'pos': 0.169, 'co...  \n",
              "...                                                 ...  \n",
              "5172  {'neg': 0.113, 'neu': 0.632, 'pos': 0.256, 'co...  \n",
              "5918  {'neg': 0.166, 'neu': 0.61, 'pos': 0.224, 'com...  \n",
              "5917  {'neg': 0.054, 'neu': 0.603, 'pos': 0.343, 'co...  \n",
              "5173  {'neg': 0.0, 'neu': 0.3, 'pos': 0.7, 'compound...  \n",
              "3315  {'neg': 0.062, 'neu': 0.716, 'pos': 0.222, 'co...  \n",
              "\n",
              "[6631 rows x 4 columns]"
            ]
          },
          "execution_count": 90,
          "metadata": {},
          "output_type": "execute_result"
        }
      ],
      "source": [
        "\n",
        "# Initialize the VADER sentiment analyzer\n",
        "analyzer = SentimentIntensityAnalyzer()\n",
        "\n",
        "# Function to perform sentiment analysis using VADER\n",
        "def perform_sentiment_analysis(text):\n",
        "    sentiment_scores = analyzer.polarity_scores(text)\n",
        "    return sentiment_scores\n",
        "\n",
        "# Apply sentiment analysis to each review and store the scores in a new column\n",
        "similarity_df['Sentiment Scores'] = similarity_df['Product Review'].apply(perform_sentiment_analysis)\n",
        "sentiment_similarity_df = similarity_df.sort_values(by = 'Similarity Score', ascending = False)\n",
        "sentiment_similarity_df"
      ]
    },
    {
      "cell_type": "markdown",
      "metadata": {
        "id": "diu6oyurngro"
      },
      "source": [
        "## Task E\n",
        "\n",
        "Create an evaluation score for each beer that uses both similarity and sentiment scores.\n",
        "Now recommend 3 products to the customer.\n"
      ]
    },
    {
      "cell_type": "code",
      "execution_count": 91,
      "metadata": {
        "colab": {
          "base_uri": "https://localhost:8080/"
        },
        "id": "tae0TIfoeH3f",
        "outputId": "d4f35015-aa65-4b1e-9f09-2f7ef8abdb49"
      },
      "outputs": [
        {
          "name": "stdout",
          "output_type": "stream",
          "text": [
            "Top 3 Recommended Brands:\n",
            "             Product Name  Evaluation Score\n",
            "4058  Oktoberfest M√§rzen           0.74549\n",
            "3181  Rodenbach Alexander           0.74505\n",
            "6621      King JJJuliusss           0.74421\n"
          ]
        }
      ],
      "source": [
        "# Defining weights for similarity and sentiment scores... giving 70% weight to similarity\n",
        "similarity_weight = 0.6\n",
        "sentiment_weight = 0.4\n",
        "\n",
        "# Function to calculate the evaluation score using\n",
        "def calculate_evaluation_score(similarity_score, sentiment_score):\n",
        "    overall_sentiment_score = sentiment_score['compound']\n",
        "    # Calculate the evaluation score as a weighted sum\n",
        "    evaluation_score = (similarity_weight * similarity_score) + (sentiment_weight * overall_sentiment_score)\n",
        "    return evaluation_score\n",
        "\n",
        "# Calculate the evaluation score for each beer\n",
        "sentiment_similarity_df['Evaluation Score'] = sentiment_similarity_df.apply(lambda row: calculate_evaluation_score(row['Similarity Score'], row['Sentiment Scores']), axis=1)\n",
        "\n",
        "# Sort the beers by their evaluation scores in descending order\n",
        "sentiment_similarity_df = sentiment_similarity_df.sort_values(by='Evaluation Score', ascending=False)\n",
        "\n",
        "# Recommend the top 3 brands based on the highest evaluation scores\n",
        "top_3_brands = sentiment_similarity_df.head(3)[['Product Name', 'Evaluation Score']]\n",
        "\n",
        "# Display the recommended top 3 brands\n",
        "print(\"Top 3 Recommended Brands:\")\n",
        "print(top_3_brands)\n"
      ]
    },
    {
      "cell_type": "code",
      "execution_count": null,
      "metadata": {},
      "outputs": [],
      "source": []
    },
    {
      "cell_type": "markdown",
      "metadata": {},
      "source": [
        "# Task F"
      ]
    },
    {
      "cell_type": "code",
      "execution_count": 92,
      "metadata": {},
      "outputs": [
        {
          "name": "stderr",
          "output_type": "stream",
          "text": [
            "C:\\Users\\rahul\\AppData\\Local\\Temp\\ipykernel_5488\\863601309.py:9: UserWarning: [W008] Evaluating Doc.similarity based on empty vectors.\n",
            "  return doc1.similarity(doc2)\n"
          ]
        },
        {
          "name": "stdout",
          "output_type": "stream",
          "text": [
            "Top 3 Recommended Brands:\n",
            "                         Product Name  Evaluation Score\n",
            "0  Pseudo Sue - Peacharine Dry-Hopped          0.854290\n",
            "1                  It Was All A Dream          0.847327\n",
            "2             Wide Awake It's Morning          0.840216\n"
          ]
        }
      ],
      "source": [
        "# Load spaCy with medium-sized pretrained word vectors\n",
        "nlp = spacy.load('en_core_web_md')\n",
        "\n",
        "words_to_compare=' '.join(words_to_compare)\n",
        "# Function to calculate word vector similarity\n",
        "def word_vector_similarity(text1, text2):\n",
        "    doc1 = nlp(text1)\n",
        "    doc2 = nlp(text2)\n",
        "    return doc1.similarity(doc2)\n",
        "\n",
        "def calculate_evaluation_score(row):\n",
        "    similarity_score = row['Similarity Score']\n",
        "    sentiment_score = row['Sentiment Score']['compound']\n",
        "    \n",
        "    evaluation_score = (similarity_weight * similarity_score) + (sentiment_weight * sentiment_score)\n",
        "    return evaluation_score\n",
        "\n",
        "# Create a new DataFrame with product name, product review, and similarity score\n",
        "result_df = pd.DataFrame({\n",
        "    'Product Name': df['item'],\n",
        "    'Product Review': df['body'],\n",
        "    'Similarity Score': ''\n",
        "})\n",
        "\n",
        "result_df['Similarity Score'] = result_df['Product Review'].apply(word_vector_similarity, text2=words_to_compare)\n",
        "result_df['Sentiment Score'] = result_df['Product Review'].apply(perform_sentiment_analysis)\n",
        "result_df['Evaluation Score'] = result_df.apply(calculate_evaluation_score, axis=1)\n",
        "\n",
        "sentiment_similarity_df=result_df.groupby('Product Name')['Evaluation Score'].agg('mean').reset_index().sort_values(by='Evaluation Score',ascending = False).reset_index(drop=True)\n",
        "\n",
        "# Recommend the top 3 brands based on the highest evaluation scores\n",
        "top_3_brands_word_vec = sentiment_similarity_df.head(3)[['Product Name', 'Evaluation Score']]\n",
        "\n",
        "# Display the recommended top 3 brands\n",
        "print(\"Top 3 Recommended Brands:\")\n",
        "print(top_3_brands_word_vec)"
      ]
    },
    {
      "cell_type": "code",
      "execution_count": 74,
      "metadata": {},
      "outputs": [
        {
          "ename": "NameError",
          "evalue": "name 'top_3_brands_word_vec' is not defined",
          "output_type": "error",
          "traceback": [
            "\u001b[1;31m---------------------------------------------------------------------------\u001b[0m",
            "\u001b[1;31mNameError\u001b[0m                                 Traceback (most recent call last)",
            "\u001b[1;32mc:\\Users\\rahul\\OneDrive\\Documents\\Fall\\Unstructured data analytics\\Assignment 2\\beer-recommender-system\\Beer_recommender_system.ipynb Cell 26\u001b[0m line \u001b[0;36m1\n\u001b[1;32m----> <a href='vscode-notebook-cell:/c%3A/Users/rahul/OneDrive/Documents/Fall/Unstructured%20data%20analytics/Assignment%202/beer-recommender-system/Beer_recommender_system.ipynb#X50sZmlsZQ%3D%3D?line=0'>1</a>\u001b[0m top_3_brands_word_vec\n",
            "\u001b[1;31mNameError\u001b[0m: name 'top_3_brands_word_vec' is not defined"
          ]
        }
      ],
      "source": [
        "top_3_brands_word_vec"
      ]
    },
    {
      "cell_type": "markdown",
      "metadata": {
        "id": "xAp2RBWC0Opl"
      },
      "source": [
        "# Task H\n",
        "Using the top four attributes of beer (from word frequency analysis), calculate the lifts between\n",
        "these attributes and any 10 beers in your data. Choose one beer, and find the most similar beer (among\n",
        "the remaining 9) using the lift values. Explain your method."
      ]
    },
    {
      "cell_type": "code",
      "execution_count": 20,
      "metadata": {
        "id": "Zprr9xnR0Opm"
      },
      "outputs": [],
      "source": [
        "def initialize(list1, list2):\n",
        "    attribute_mentions_per_review = {attribute: set() for attribute in list1 + list2}\n",
        "    co_mentions = {}\n",
        "    for attr1 in list1 + list2:\n",
        "        co_mentions[attr1] = {}\n",
        "        for brand in list1 + list2:\n",
        "            co_mentions[attr1][brand] = 0\n",
        "    individual_mentions = {attr: 0 for attr in list1 + list2}\n",
        "    lift_ratios = {}\n",
        "    lift_already_calculated = set()\n",
        "    return co_mentions, attribute_mentions_per_review, individual_mentions, lift_ratios, lift_already_calculated"
      ]
    },
    {
      "cell_type": "code",
      "execution_count": 21,
      "metadata": {
        "id": "wfJIs6Bm0Opn"
      },
      "outputs": [],
      "source": [
        "def calculate_lift(attr1, brand, co_mentions, individual_mentions, total_posts):\n",
        "    if attr1 == brand:\n",
        "        return 0  # Lift ratio between the same brand is 0\n",
        "    # Calculate lift using the formula: lift(attr1, brand) = (P(attr1 and brand) / (P(attr1) * P(brand))) * N\n",
        "    p_attr1_and_brand = co_mentions[attr1][brand]\n",
        "    p_attr1 = individual_mentions[attr1]\n",
        "    p_brand = individual_mentions[brand]\n",
        "    if p_attr1 == 0 or p_brand == 0:\n",
        "        return 0\n",
        "    else:\n",
        "        return (p_attr1_and_brand / (p_attr1 * p_brand)) * total_posts"
      ]
    },
    {
      "cell_type": "code",
      "execution_count": 22,
      "metadata": {
        "colab": {
          "base_uri": "https://localhost:8080/"
        },
        "id": "4Btj79PE0Opn",
        "outputId": "d35a9d5f-a905-43ac-b0e1-af973b8a800c"
      },
      "outputs": [
        {
          "data": {
            "text/plain": [
              "['sweet',\n",
              " 'carbonation',\n",
              " 'mouthfeel',\n",
              " 'smooth',\n",
              " 'caramel',\n",
              " 'clear',\n",
              " 'sweetness',\n",
              " 'dry',\n",
              " 'bitter',\n",
              " 'malty']"
            ]
          },
          "execution_count": 22,
          "metadata": {},
          "output_type": "execute_result"
        }
      ],
      "source": [
        "#selected_beer_brands=[\"Mornin' Delight\",\"Nelson\",\"Stickee Monkee\",\"The Wild One\",\"Corsendonk Christmas Ale\"]\n",
        "selected_beer_brands=[\"Old Chub\",\"Voodoo Ranger Juicy Haze IPA\",\"Harvest Ale (Limited Edition)\",\"The Angel's Share - Bourbon Barrel-Aged\",\"Weihenstephaner Korbinian\",\"G'Knight\",\"Mirror Pond Pale Ale\",\"Antarctica Pilsen\",\"Dark Lord\",\"Breakfast Stout\"]\n",
        "attributes=list(attr_word_freq['word'])[:10]\n",
        "attributes"
      ]
    },
    {
      "cell_type": "code",
      "execution_count": 23,
      "metadata": {
        "id": "k2E8HyH00Opo"
      },
      "outputs": [],
      "source": [
        "lift_df = pd.DataFrame(index=attributes, columns=selected_beer_brands)\n",
        "for brand in selected_beer_brands:\n",
        "    for attr in attributes:\n",
        "        # Calculate support and joint support\n",
        "        df['body'].fillna('', inplace=True)\n",
        "        support_attr = len(df[df['body'].str.contains(attr)]) / len(df)\n",
        "        support_brand = len(df[df['item'] == brand]) / len(df)\n",
        "        joint_support = len(df[(df['body'].str.contains(attr)) & (df['item'] == brand)]) / len(df)\n",
        "\n",
        "        # Calculate lift\n",
        "        if support_attr * support_brand == 0:\n",
        "            lift = 0  # Avoid division by zero\n",
        "        else:\n",
        "            lift = joint_support / (support_attr * support_brand)\n",
        "\n",
        "        lift_df.at[attr, brand] = lift\n",
        "\n"
      ]
    },
    {
      "cell_type": "code",
      "execution_count": 24,
      "metadata": {
        "colab": {
          "base_uri": "https://localhost:8080/",
          "height": 469
        },
        "id": "eYVIWVRJ0Opo",
        "outputId": "ec247d7b-69bc-4039-c450-4c95ce7fddd1"
      },
      "outputs": [
        {
          "data": {
            "text/html": [
              "<div>\n",
              "<style scoped>\n",
              "    .dataframe tbody tr th:only-of-type {\n",
              "        vertical-align: middle;\n",
              "    }\n",
              "\n",
              "    .dataframe tbody tr th {\n",
              "        vertical-align: top;\n",
              "    }\n",
              "\n",
              "    .dataframe thead th {\n",
              "        text-align: right;\n",
              "    }\n",
              "</style>\n",
              "<table border=\"1\" class=\"dataframe\">\n",
              "  <thead>\n",
              "    <tr style=\"text-align: right;\">\n",
              "      <th></th>\n",
              "      <th>Old Chub</th>\n",
              "      <th>Voodoo Ranger Juicy Haze IPA</th>\n",
              "      <th>Harvest Ale (Limited Edition)</th>\n",
              "      <th>The Angel's Share - Bourbon Barrel-Aged</th>\n",
              "      <th>Weihenstephaner Korbinian</th>\n",
              "      <th>G'Knight</th>\n",
              "      <th>Mirror Pond Pale Ale</th>\n",
              "      <th>Antarctica Pilsen</th>\n",
              "      <th>Dark Lord</th>\n",
              "      <th>Breakfast Stout</th>\n",
              "    </tr>\n",
              "  </thead>\n",
              "  <tbody>\n",
              "    <tr>\n",
              "      <th>sweet</th>\n",
              "      <td>2.691153</td>\n",
              "      <td>0.348853</td>\n",
              "      <td>2.093119</td>\n",
              "      <td>1.177379</td>\n",
              "      <td>1.712552</td>\n",
              "      <td>1.569839</td>\n",
              "      <td>0.52328</td>\n",
              "      <td>0.0</td>\n",
              "      <td>2.242627</td>\n",
              "      <td>1.255871</td>\n",
              "    </tr>\n",
              "    <tr>\n",
              "      <th>carbonation</th>\n",
              "      <td>0.576559</td>\n",
              "      <td>0.448434</td>\n",
              "      <td>1.681629</td>\n",
              "      <td>1.008977</td>\n",
              "      <td>1.467604</td>\n",
              "      <td>0.0</td>\n",
              "      <td>1.345303</td>\n",
              "      <td>2.017955</td>\n",
              "      <td>1.729676</td>\n",
              "      <td>0.807182</td>\n",
              "    </tr>\n",
              "    <tr>\n",
              "      <th>mouthfeel</th>\n",
              "      <td>0.841284</td>\n",
              "      <td>0.0</td>\n",
              "      <td>1.472247</td>\n",
              "      <td>2.20837</td>\n",
              "      <td>1.070725</td>\n",
              "      <td>2.20837</td>\n",
              "      <td>0.981498</td>\n",
              "      <td>0.0</td>\n",
              "      <td>1.682568</td>\n",
              "      <td>0.588899</td>\n",
              "    </tr>\n",
              "    <tr>\n",
              "      <th>smooth</th>\n",
              "      <td>0.978601</td>\n",
              "      <td>0.761134</td>\n",
              "      <td>2.283402</td>\n",
              "      <td>2.568827</td>\n",
              "      <td>0.622746</td>\n",
              "      <td>0.0</td>\n",
              "      <td>1.141701</td>\n",
              "      <td>1.141701</td>\n",
              "      <td>0.978601</td>\n",
              "      <td>2.055062</td>\n",
              "    </tr>\n",
              "    <tr>\n",
              "      <th>caramel</th>\n",
              "      <td>3.882319</td>\n",
              "      <td>0.0</td>\n",
              "      <td>3.774476</td>\n",
              "      <td>5.661714</td>\n",
              "      <td>4.117611</td>\n",
              "      <td>2.264686</td>\n",
              "      <td>1.509791</td>\n",
              "      <td>0.0</td>\n",
              "      <td>0.0</td>\n",
              "      <td>0.0</td>\n",
              "    </tr>\n",
              "    <tr>\n",
              "      <th>clear</th>\n",
              "      <td>0.999247</td>\n",
              "      <td>0.0</td>\n",
              "      <td>0.0</td>\n",
              "      <td>0.0</td>\n",
              "      <td>0.0</td>\n",
              "      <td>0.874341</td>\n",
              "      <td>2.331575</td>\n",
              "      <td>3.497363</td>\n",
              "      <td>0.0</td>\n",
              "      <td>0.0</td>\n",
              "    </tr>\n",
              "    <tr>\n",
              "      <th>sweetness</th>\n",
              "      <td>1.304801</td>\n",
              "      <td>0.0</td>\n",
              "      <td>3.044536</td>\n",
              "      <td>1.141701</td>\n",
              "      <td>0.830328</td>\n",
              "      <td>3.425103</td>\n",
              "      <td>0.0</td>\n",
              "      <td>0.0</td>\n",
              "      <td>1.304801</td>\n",
              "      <td>2.740083</td>\n",
              "    </tr>\n",
              "    <tr>\n",
              "      <th>dry</th>\n",
              "      <td>1.063171</td>\n",
              "      <td>0.0</td>\n",
              "      <td>0.620183</td>\n",
              "      <td>0.930275</td>\n",
              "      <td>0.676564</td>\n",
              "      <td>0.930275</td>\n",
              "      <td>0.0</td>\n",
              "      <td>0.0</td>\n",
              "      <td>0.0</td>\n",
              "      <td>0.74422</td>\n",
              "    </tr>\n",
              "    <tr>\n",
              "      <th>bitter</th>\n",
              "      <td>0.619141</td>\n",
              "      <td>0.481554</td>\n",
              "      <td>0.722331</td>\n",
              "      <td>0.0</td>\n",
              "      <td>0.787998</td>\n",
              "      <td>1.083497</td>\n",
              "      <td>0.722331</td>\n",
              "      <td>0.722331</td>\n",
              "      <td>0.619141</td>\n",
              "      <td>2.600392</td>\n",
              "    </tr>\n",
              "    <tr>\n",
              "      <th>malty</th>\n",
              "      <td>5.561364</td>\n",
              "      <td>0.0</td>\n",
              "      <td>1.081376</td>\n",
              "      <td>0.0</td>\n",
              "      <td>2.359367</td>\n",
              "      <td>3.244129</td>\n",
              "      <td>0.0</td>\n",
              "      <td>0.0</td>\n",
              "      <td>0.0</td>\n",
              "      <td>0.0</td>\n",
              "    </tr>\n",
              "  </tbody>\n",
              "</table>\n",
              "</div>"
            ],
            "text/plain": [
              "             Old Chub Voodoo Ranger Juicy Haze IPA  \\\n",
              "sweet        2.691153                     0.348853   \n",
              "carbonation  0.576559                     0.448434   \n",
              "mouthfeel    0.841284                          0.0   \n",
              "smooth       0.978601                     0.761134   \n",
              "caramel      3.882319                          0.0   \n",
              "clear        0.999247                          0.0   \n",
              "sweetness    1.304801                          0.0   \n",
              "dry          1.063171                          0.0   \n",
              "bitter       0.619141                     0.481554   \n",
              "malty        5.561364                          0.0   \n",
              "\n",
              "            Harvest Ale (Limited Edition)  \\\n",
              "sweet                            2.093119   \n",
              "carbonation                      1.681629   \n",
              "mouthfeel                        1.472247   \n",
              "smooth                           2.283402   \n",
              "caramel                          3.774476   \n",
              "clear                                 0.0   \n",
              "sweetness                        3.044536   \n",
              "dry                              0.620183   \n",
              "bitter                           0.722331   \n",
              "malty                            1.081376   \n",
              "\n",
              "            The Angel's Share - Bourbon Barrel-Aged Weihenstephaner Korbinian  \\\n",
              "sweet                                      1.177379                  1.712552   \n",
              "carbonation                                1.008977                  1.467604   \n",
              "mouthfeel                                   2.20837                  1.070725   \n",
              "smooth                                     2.568827                  0.622746   \n",
              "caramel                                    5.661714                  4.117611   \n",
              "clear                                           0.0                       0.0   \n",
              "sweetness                                  1.141701                  0.830328   \n",
              "dry                                        0.930275                  0.676564   \n",
              "bitter                                          0.0                  0.787998   \n",
              "malty                                           0.0                  2.359367   \n",
              "\n",
              "             G'Knight Mirror Pond Pale Ale Antarctica Pilsen Dark Lord  \\\n",
              "sweet        1.569839              0.52328               0.0  2.242627   \n",
              "carbonation       0.0             1.345303          2.017955  1.729676   \n",
              "mouthfeel     2.20837             0.981498               0.0  1.682568   \n",
              "smooth            0.0             1.141701          1.141701  0.978601   \n",
              "caramel      2.264686             1.509791               0.0       0.0   \n",
              "clear        0.874341             2.331575          3.497363       0.0   \n",
              "sweetness    3.425103                  0.0               0.0  1.304801   \n",
              "dry          0.930275                  0.0               0.0       0.0   \n",
              "bitter       1.083497             0.722331          0.722331  0.619141   \n",
              "malty        3.244129                  0.0               0.0       0.0   \n",
              "\n",
              "            Breakfast Stout  \n",
              "sweet              1.255871  \n",
              "carbonation        0.807182  \n",
              "mouthfeel          0.588899  \n",
              "smooth             2.055062  \n",
              "caramel                 0.0  \n",
              "clear                   0.0  \n",
              "sweetness          2.740083  \n",
              "dry                 0.74422  \n",
              "bitter             2.600392  \n",
              "malty                   0.0  "
            ]
          },
          "execution_count": 24,
          "metadata": {},
          "output_type": "execute_result"
        }
      ],
      "source": [
        "lift_df"
      ]
    },
    {
      "cell_type": "code",
      "execution_count": 28,
      "metadata": {
        "colab": {
          "base_uri": "https://localhost:8080/"
        },
        "id": "N36eXX4_0Opp",
        "outputId": "8541b99f-0594-4bc5-e711-48b1c31ff59f"
      },
      "outputs": [
        {
          "name": "stdout",
          "output_type": "stream",
          "text": [
            "The most similar beer to Weihenstephaner Korbinian is The Angel's Share - Bourbon Barrel-Aged based on the attribute 'caramel' with a lift value of 5.661714480874317.\n"
          ]
        }
      ],
      "source": [
        "# Choose a reference beer (replace with the beer you want to use as reference)\n",
        "reference_beer = 'Weihenstephaner Korbinian'\n",
        "\n",
        "# Create a dictionary to store the most similar beer for each reference attribute\n",
        "most_similar_beers = {}\n",
        "\n",
        "# Iterate through the remaining nine beers\n",
        "for beer in selected_beer_brands:\n",
        "    if beer != reference_beer:  # Exclude the reference beer itself\n",
        "        most_similar_attribute = None\n",
        "        highest_lift = 0.0\n",
        "\n",
        "        # Find the attribute with the highest lift value when associated with the reference beer\n",
        "        for attribute in attributes:\n",
        "            lift_value = lift_df.at[attribute, beer]\n",
        "            if lift_value > highest_lift:\n",
        "                highest_lift = lift_value\n",
        "                most_similar_attribute = attribute\n",
        "\n",
        "        # Store the most similar beer for the reference beer\n",
        "        most_similar_beers[beer] = (most_similar_attribute, highest_lift)\n",
        "\n",
        "# Find the beer with the highest lift value\n",
        "most_similar_beer = max(most_similar_beers, key=lambda x: most_similar_beers[x][1])\n",
        "similar_attribute, highest_lift = most_similar_beers[most_similar_beer]\n",
        "\n",
        "print(f\"The most similar beer to {reference_beer} is {most_similar_beer} based on the attribute '{similar_attribute}' with a lift value of {highest_lift}.\")"
      ]
    },
    {
      "cell_type": "code",
      "execution_count": null,
      "metadata": {},
      "outputs": [],
      "source": []
    }
  ],
  "metadata": {
    "colab": {
      "provenance": []
    },
    "kernelspec": {
      "display_name": "Python 3 (ipykernel)",
      "language": "python",
      "name": "python3"
    },
    "language_info": {
      "codemirror_mode": {
        "name": "ipython",
        "version": 3
      },
      "file_extension": ".py",
      "mimetype": "text/x-python",
      "name": "python",
      "nbconvert_exporter": "python",
      "pygments_lexer": "ipython3",
      "version": "3.11.4"
    }
  },
  "nbformat": 4,
  "nbformat_minor": 0
}
